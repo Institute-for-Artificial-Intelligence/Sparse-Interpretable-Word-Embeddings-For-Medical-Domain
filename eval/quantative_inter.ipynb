{
 "cells": [
  {
   "cell_type": "code",
   "execution_count": 1,
   "metadata": {},
   "outputs": [],
   "source": [
    "import pandas as pd \n",
    "import numpy as np \n",
    "import matplotlib.pyplot as plt "
   ]
  },
  {
   "cell_type": "code",
   "execution_count": 52,
   "metadata": {},
   "outputs": [],
   "source": [
    "import gensim\n",
    "import pandas\n",
    "import pandas\n",
    "import numpy\n",
    "import os\n",
    "from scipy.linalg import norm\n",
    "from gensim.models import KeyedVectors\n",
    "from utilities import *"
   ]
  },
  {
   "cell_type": "code",
   "execution_count": 53,
   "metadata": {},
   "outputs": [],
   "source": [
    "spine_glove = KeyedVectors.load_word2vec_format('../gridserach_Glove/result_vector/pmc_glove_spine_h1000_rl_2' , binary=False)"
   ]
  },
  {
   "cell_type": "code",
   "execution_count": 8,
   "metadata": {},
   "outputs": [],
   "source": [
    "data = pd.read_csv('./category_med.csv').drop('Unnamed: 0', axis=1).drop_duplicates()"
   ]
  },
  {
   "cell_type": "code",
   "execution_count": 9,
   "metadata": {},
   "outputs": [
    {
     "data": {
      "text/html": [
       "<div>\n",
       "<style scoped>\n",
       "    .dataframe tbody tr th:only-of-type {\n",
       "        vertical-align: middle;\n",
       "    }\n",
       "\n",
       "    .dataframe tbody tr th {\n",
       "        vertical-align: top;\n",
       "    }\n",
       "\n",
       "    .dataframe thead th {\n",
       "        text-align: right;\n",
       "    }\n",
       "</style>\n",
       "<table border=\"1\" class=\"dataframe\">\n",
       "  <thead>\n",
       "    <tr style=\"text-align: right;\">\n",
       "      <th></th>\n",
       "      <th>STR</th>\n",
       "      <th>STY</th>\n",
       "    </tr>\n",
       "  </thead>\n",
       "  <tbody>\n",
       "    <tr>\n",
       "      <th>0</th>\n",
       "      <td>mptp</td>\n",
       "      <td>Organic Chemical</td>\n",
       "    </tr>\n",
       "    <tr>\n",
       "      <th>1</th>\n",
       "      <td>mptp</td>\n",
       "      <td>Hazardous or Poisonous Substance</td>\n",
       "    </tr>\n",
       "    <tr>\n",
       "      <th>2</th>\n",
       "      <td>mda</td>\n",
       "      <td>Organic Chemical</td>\n",
       "    </tr>\n",
       "    <tr>\n",
       "      <th>3</th>\n",
       "      <td>mda</td>\n",
       "      <td>Hazardous or Poisonous Substance</td>\n",
       "    </tr>\n",
       "    <tr>\n",
       "      <th>4</th>\n",
       "      <td>abbreviations</td>\n",
       "      <td>Intellectual Product</td>\n",
       "    </tr>\n",
       "  </tbody>\n",
       "</table>\n",
       "</div>"
      ],
      "text/plain": [
       "             STR                               STY\n",
       "0           mptp                  Organic Chemical\n",
       "1           mptp  Hazardous or Poisonous Substance\n",
       "2            mda                  Organic Chemical\n",
       "3            mda  Hazardous or Poisonous Substance\n",
       "4  abbreviations              Intellectual Product"
      ]
     },
     "execution_count": 9,
     "metadata": {},
     "output_type": "execute_result"
    }
   ],
   "source": [
    "data.head()"
   ]
  },
  {
   "cell_type": "code",
   "execution_count": 46,
   "metadata": {},
   "outputs": [],
   "source": [
    "data_1 ={i[0]:list(i[1]) for i in list(data.groupby('STY').STR) if (len(i[1]) > 5) and (len(i[1]) < 250)}"
   ]
  },
  {
   "cell_type": "code",
   "execution_count": 47,
   "metadata": {},
   "outputs": [],
   "source": [
    "cat = pd.DataFrame([list(data_1.keys()), data_1.values()]).T"
   ]
  },
  {
   "cell_type": "code",
   "execution_count": 48,
   "metadata": {},
   "outputs": [
    {
     "data": {
      "text/plain": [
       "209"
      ]
     },
     "execution_count": 48,
     "metadata": {},
     "output_type": "execute_result"
    }
   ],
   "source": [
    "max([len(i) for i in data_1.values()])"
   ]
  },
  {
   "cell_type": "code",
   "execution_count": 49,
   "metadata": {},
   "outputs": [
    {
     "data": {
      "text/html": [
       "<div>\n",
       "<style scoped>\n",
       "    .dataframe tbody tr th:only-of-type {\n",
       "        vertical-align: middle;\n",
       "    }\n",
       "\n",
       "    .dataframe tbody tr th {\n",
       "        vertical-align: top;\n",
       "    }\n",
       "\n",
       "    .dataframe thead th {\n",
       "        text-align: right;\n",
       "    }\n",
       "</style>\n",
       "<table border=\"1\" class=\"dataframe\">\n",
       "  <thead>\n",
       "    <tr style=\"text-align: right;\">\n",
       "      <th></th>\n",
       "      <th>0</th>\n",
       "      <th>1</th>\n",
       "    </tr>\n",
       "  </thead>\n",
       "  <tbody>\n",
       "    <tr>\n",
       "      <th>0</th>\n",
       "      <td>Acquired Abnormality</td>\n",
       "      <td>[stump, corn, corning, nodule, nodules, catara...</td>\n",
       "    </tr>\n",
       "    <tr>\n",
       "      <th>1</th>\n",
       "      <td>Activity</td>\n",
       "      <td>[burial, consumption, doping, immigration, int...</td>\n",
       "    </tr>\n",
       "    <tr>\n",
       "      <th>2</th>\n",
       "      <td>Age Group</td>\n",
       "      <td>[adult, adults, child, children, infant, infan...</td>\n",
       "    </tr>\n",
       "    <tr>\n",
       "      <th>3</th>\n",
       "      <td>Amphibian</td>\n",
       "      <td>[amphibians, amphibian, frogs, frog, xenopus, ...</td>\n",
       "    </tr>\n",
       "    <tr>\n",
       "      <th>4</th>\n",
       "      <td>Anatomical Abnormality</td>\n",
       "      <td>[contracture, diverticulum, fistula, fistulas,...</td>\n",
       "    </tr>\n",
       "    <tr>\n",
       "      <th>...</th>\n",
       "      <td>...</td>\n",
       "      <td>...</td>\n",
       "    </tr>\n",
       "    <tr>\n",
       "      <th>88</th>\n",
       "      <td>Substance</td>\n",
       "      <td>[air, dust, fossils, fossil, freshwater, glue,...</td>\n",
       "    </tr>\n",
       "    <tr>\n",
       "      <th>89</th>\n",
       "      <td>Temporal Concept</td>\n",
       "      <td>[adolescence, youth, appointments, appointment...</td>\n",
       "    </tr>\n",
       "    <tr>\n",
       "      <th>90</th>\n",
       "      <td>Tissue</td>\n",
       "      <td>[callus, cartilage, dermis, endocardial, endot...</td>\n",
       "    </tr>\n",
       "    <tr>\n",
       "      <th>91</th>\n",
       "      <td>Virus</td>\n",
       "      <td>[adenoviruses, adenovirus, adenoviral, bacteri...</td>\n",
       "    </tr>\n",
       "    <tr>\n",
       "      <th>92</th>\n",
       "      <td>Vitamin</td>\n",
       "      <td>[biotin, calcitriol, ergosterol, inositol, nia...</td>\n",
       "    </tr>\n",
       "  </tbody>\n",
       "</table>\n",
       "<p>93 rows × 2 columns</p>\n",
       "</div>"
      ],
      "text/plain": [
       "                         0                                                  1\n",
       "0     Acquired Abnormality  [stump, corn, corning, nodule, nodules, catara...\n",
       "1                 Activity  [burial, consumption, doping, immigration, int...\n",
       "2                Age Group  [adult, adults, child, children, infant, infan...\n",
       "3                Amphibian  [amphibians, amphibian, frogs, frog, xenopus, ...\n",
       "4   Anatomical Abnormality  [contracture, diverticulum, fistula, fistulas,...\n",
       "..                     ...                                                ...\n",
       "88               Substance  [air, dust, fossils, fossil, freshwater, glue,...\n",
       "89        Temporal Concept  [adolescence, youth, appointments, appointment...\n",
       "90                  Tissue  [callus, cartilage, dermis, endocardial, endot...\n",
       "91                   Virus  [adenoviruses, adenovirus, adenoviral, bacteri...\n",
       "92                 Vitamin  [biotin, calcitriol, ergosterol, inositol, nia...\n",
       "\n",
       "[93 rows x 2 columns]"
      ]
     },
     "execution_count": 49,
     "metadata": {},
     "output_type": "execute_result"
    }
   ],
   "source": [
    "cat"
   ]
  },
  {
   "cell_type": "code",
   "execution_count": 64,
   "metadata": {},
   "outputs": [],
   "source": [
    "def score_cat_inter(emb, cat, _lambda = 1, dim = 1000):\n",
    "    import ast\n",
    "    cats = cat[1]\n",
    "    scores = np.zeros((1000,len(cat)))\n",
    "    from tqdm import tqdm\n",
    "\n",
    "    for i in tqdm(range(0,dim)):\n",
    "        temp = topk_dim(emb, dim= i, k= 250 * _lambda)\n",
    "        for num, voc in enumerate(cats): \n",
    "            scores[i, num] = len(set(temp[:len(voc) * _lambda]) & set(voc)) / len(voc)\n",
    "    return scores.max(axis =0).mean()\n",
    "\n",
    "\n"
   ]
  },
  {
   "cell_type": "code",
   "execution_count": 75,
   "metadata": {},
   "outputs": [],
   "source": [
    "def topk_dim(word_embedding, dim, reverse = 0, k = 10):\n",
    "    if reverse == 1:\n",
    "        top_words = normalize(word_embedding)[...,dim].argsort()[:k]\n",
    "    else :\n",
    "        top_words = normalize(word_embedding)[...,dim].argsort()[-k:][::-1]\n",
    "    temp = []\n",
    "    for i in top_words:\n",
    "        temp.append(list(word_embedding.vocab.keys())[i])\n",
    "    return temp\n"
   ]
  },
  {
   "cell_type": "code",
   "execution_count": 81,
   "metadata": {},
   "outputs": [],
   "source": [
    "def score_cat_inter(emb, cat, _lambda = 1, dim = 1000):\n",
    "    import ast\n",
    "    cats = cat[1]\n",
    "    scores = np.zeros((1000,len(cat)))\n",
    "    from tqdm import tqdm\n",
    "\n",
    "    for i in tqdm(range(0,dim)):\n",
    "        top = topk_dim(emb, dim= i, k= 250 * _lambda)\n",
    "        buttum = topk_dim(emb, dim= i, reverse = 1, k= 250 * _lambda)\n",
    "        for num, voc in enumerate(cats): \n",
    "            pos = len(set(top[:len(voc) * _lambda]) & set(voc)) / len(voc)\n",
    "            neg = len(set(buttum[:len(voc) * _lambda]) & set(voc)) / len(voc)\n",
    "            scores[i, num] = max([pos,neg])\n",
    "    return scores.max(axis =0).mean()\n",
    "\n",
    "\n"
   ]
  },
  {
   "cell_type": "code",
   "execution_count": 82,
   "metadata": {},
   "outputs": [
    {
     "name": "stderr",
     "output_type": "stream",
     "text": [
      "100%|██████████| 1000/1000 [03:24<00:00,  4.89it/s]\n"
     ]
    },
    {
     "data": {
      "text/plain": [
       "0.18123898270447694"
      ]
     },
     "execution_count": 82,
     "metadata": {},
     "output_type": "execute_result"
    }
   ],
   "source": [
    "score_cat_inter(spine_glove, cat)"
   ]
  },
  {
   "cell_type": "code",
   "execution_count": 84,
   "metadata": {},
   "outputs": [],
   "source": [
    "spow_glove = KeyedVectors.load_word2vec_format('../gridserach_Glove/spow_result_vectors/spow_glove_h1000_1.txt' , binary=False)"
   ]
  },
  {
   "cell_type": "code",
   "execution_count": 85,
   "metadata": {},
   "outputs": [
    {
     "name": "stderr",
     "output_type": "stream",
     "text": [
      "100%|██████████| 1000/1000 [03:24<00:00,  4.89it/s]\n"
     ]
    },
    {
     "data": {
      "text/plain": [
       "0.09951058449144706"
      ]
     },
     "execution_count": 85,
     "metadata": {},
     "output_type": "execute_result"
    }
   ],
   "source": [
    "score_cat_inter(spow_glove, cat)"
   ]
  },
  {
   "cell_type": "code",
   "execution_count": 70,
   "metadata": {},
   "outputs": [],
   "source": [
    "glove = KeyedVectors.load_word2vec_format('../GloVe/GloVe_pmc_300_min20_win16_20k.txt' , binary=False)"
   ]
  },
  {
   "cell_type": "code",
   "execution_count": 86,
   "metadata": {},
   "outputs": [
    {
     "name": "stderr",
     "output_type": "stream",
     "text": [
      "100%|██████████| 300/300 [00:26<00:00, 11.20it/s]\n"
     ]
    },
    {
     "data": {
      "text/plain": [
       "0.08683428681392534"
      ]
     },
     "execution_count": 86,
     "metadata": {},
     "output_type": "execute_result"
    }
   ],
   "source": [
    "score_cat_inter(glove, cat, dim= 300)"
   ]
  },
  {
   "cell_type": "code",
   "execution_count": 88,
   "metadata": {},
   "outputs": [],
   "source": [
    "spine_sg= KeyedVectors.load_word2vec_format('../gridserach_SG/result_vector/pmc_sg_spine_h1000_psl_0.2' , binary=False)"
   ]
  },
  {
   "cell_type": "code",
   "execution_count": 90,
   "metadata": {},
   "outputs": [
    {
     "name": "stderr",
     "output_type": "stream",
     "text": [
      "100%|██████████| 1000/1000 [03:22<00:00,  4.94it/s]\n"
     ]
    },
    {
     "data": {
      "text/plain": [
       "0.16776261472511778"
      ]
     },
     "execution_count": 90,
     "metadata": {},
     "output_type": "execute_result"
    }
   ],
   "source": [
    "score_cat_inter(spine_sg, cat)"
   ]
  },
  {
   "cell_type": "code",
   "execution_count": 93,
   "metadata": {},
   "outputs": [],
   "source": [
    "9spow_sg= KeyedVectors.load_word2vec_format('../gridserach_SG/spow_result_vectors/spow_sg_h1000_1.txt' , binary=False)"
   ]
  },
  {
   "cell_type": "code",
   "execution_count": 95,
   "metadata": {},
   "outputs": [
    {
     "name": "stderr",
     "output_type": "stream",
     "text": [
      "100%|██████████| 1000/1000 [03:25<00:00,  4.85it/s]\n"
     ]
    },
    {
     "data": {
      "text/plain": [
       "0.12366172221548145"
      ]
     },
     "execution_count": 95,
     "metadata": {},
     "output_type": "execute_result"
    }
   ],
   "source": [
    "score_cat_inter(spow_sg, cat)"
   ]
  },
  {
   "cell_type": "code",
   "execution_count": 96,
   "metadata": {},
   "outputs": [],
   "source": [
    "sg= KeyedVectors.load_word2vec_format('../Skip_Gram/sg_pmc_300_min20_win16_20k_2.txt' , binary=False)"
   ]
  },
  {
   "cell_type": "code",
   "execution_count": 97,
   "metadata": {},
   "outputs": [
    {
     "name": "stderr",
     "output_type": "stream",
     "text": [
      "100%|██████████| 300/300 [00:27<00:00, 10.96it/s]\n"
     ]
    },
    {
     "data": {
      "text/plain": [
       "0.09694318598191941"
      ]
     },
     "execution_count": 97,
     "metadata": {},
     "output_type": "execute_result"
    }
   ],
   "source": [
    "score_cat_inter(sg, cat, dim= 300)"
   ]
  },
  {
   "cell_type": "code",
   "execution_count": 102,
   "metadata": {},
   "outputs": [
    {
     "data": {
      "text/plain": [
       "62.053763440860216"
      ]
     },
     "execution_count": 102,
     "metadata": {},
     "output_type": "execute_result"
    }
   ],
   "source": [
    "np.array([len(i) for i in cat[1]]).mean()"
   ]
  },
  {
   "cell_type": "code",
   "execution_count": null,
   "metadata": {},
   "outputs": [],
   "source": []
  }
 ],
 "metadata": {
  "kernelspec": {
   "display_name": "Python 3",
   "language": "python",
   "name": "python3"
  },
  "language_info": {
   "codemirror_mode": {
    "name": "ipython",
    "version": 3
   },
   "file_extension": ".py",
   "mimetype": "text/x-python",
   "name": "python",
   "nbconvert_exporter": "python",
   "pygments_lexer": "ipython3",
   "version": "3.6.5"
  }
 },
 "nbformat": 4,
 "nbformat_minor": 2
}
