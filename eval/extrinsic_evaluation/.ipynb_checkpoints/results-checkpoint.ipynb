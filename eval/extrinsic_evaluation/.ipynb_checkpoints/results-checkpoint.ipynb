{
 "cells": [
  {
   "cell_type": "code",
   "execution_count": 8,
   "metadata": {},
   "outputs": [],
   "source": [
    "import pandas as pd\n",
    "import ast \n"
   ]
  },
  {
   "cell_type": "code",
   "execution_count": 3,
   "metadata": {},
   "outputs": [],
   "source": [
    "data = pd.read_csv('./extrinsic_results')"
   ]
  },
  {
   "cell_type": "code",
   "execution_count": 22,
   "metadata": {},
   "outputs": [],
   "source": [
    "data.index = data['Unnamed: 0']"
   ]
  },
  {
   "cell_type": "code",
   "execution_count": 24,
   "metadata": {},
   "outputs": [],
   "source": [
    "data.drop('Unnamed: 0', axis=1, inplace=True)"
   ]
  },
  {
   "cell_type": "code",
   "execution_count": 65,
   "metadata": {},
   "outputs": [],
   "source": [
    "task1 = pd.DataFrame([], columns=['model'])\n",
    "\n",
    "for i in data.columns:\n",
    "    a = pd.DataFrame(ast.literal_eval(data[i].iloc[0]).items(), columns=['model', i])\n",
    "    task1 = a.merge(task1, on='model', how='outer')\n"
   ]
  },
  {
   "cell_type": "code",
   "execution_count": 69,
   "metadata": {},
   "outputs": [
    {
     "data": {
      "text/html": [
       "<div>\n",
       "<style scoped>\n",
       "    .dataframe tbody tr th:only-of-type {\n",
       "        vertical-align: middle;\n",
       "    }\n",
       "\n",
       "    .dataframe tbody tr th {\n",
       "        vertical-align: top;\n",
       "    }\n",
       "\n",
       "    .dataframe thead th {\n",
       "        text-align: right;\n",
       "    }\n",
       "</style>\n",
       "<table border=\"1\" class=\"dataframe\">\n",
       "  <thead>\n",
       "    <tr style=\"text-align: right;\">\n",
       "      <th></th>\n",
       "      <th>model</th>\n",
       "      <th>GloVe_pmc_300_min20_win16_20k.txt</th>\n",
       "      <th>pmc_glove_spine_h1000_rl_2</th>\n",
       "      <th>sg_pmc_300_min20_win16_20k_2.txt</th>\n",
       "      <th>spow_glove_h1000_1.txt</th>\n",
       "    </tr>\n",
       "  </thead>\n",
       "  <tbody>\n",
       "    <tr>\n",
       "      <th>0</th>\n",
       "      <td>SVM</td>\n",
       "      <td>0.610209</td>\n",
       "      <td>0.614849</td>\n",
       "      <td>0.613689</td>\n",
       "      <td>0.661253</td>\n",
       "    </tr>\n",
       "    <tr>\n",
       "      <th>1</th>\n",
       "      <td>GNB</td>\n",
       "      <td>0.428074</td>\n",
       "      <td>0.418794</td>\n",
       "      <td>0.458237</td>\n",
       "      <td>0.491879</td>\n",
       "    </tr>\n",
       "    <tr>\n",
       "      <th>2</th>\n",
       "      <td>RF</td>\n",
       "      <td>0.602088</td>\n",
       "      <td>0.611369</td>\n",
       "      <td>0.588167</td>\n",
       "      <td>0.606729</td>\n",
       "    </tr>\n",
       "    <tr>\n",
       "      <th>3</th>\n",
       "      <td>PA</td>\n",
       "      <td>0.474478</td>\n",
       "      <td>0.607889</td>\n",
       "      <td>0.481439</td>\n",
       "      <td>0.487239</td>\n",
       "    </tr>\n",
       "  </tbody>\n",
       "</table>\n",
       "</div>"
      ],
      "text/plain": [
       "  model  GloVe_pmc_300_min20_win16_20k.txt  pmc_glove_spine_h1000_rl_2  \\\n",
       "0   SVM                           0.610209                    0.614849   \n",
       "1   GNB                           0.428074                    0.418794   \n",
       "2    RF                           0.602088                    0.611369   \n",
       "3    PA                           0.474478                    0.607889   \n",
       "\n",
       "   sg_pmc_300_min20_win16_20k_2.txt  spow_glove_h1000_1.txt  \n",
       "0                          0.613689                0.661253  \n",
       "1                          0.458237                0.491879  \n",
       "2                          0.588167                0.606729  \n",
       "3                          0.481439                0.487239  "
      ]
     },
     "execution_count": 69,
     "metadata": {},
     "output_type": "execute_result"
    }
   ],
   "source": [
    "task1"
   ]
  },
  {
   "cell_type": "code",
   "execution_count": 70,
   "metadata": {},
   "outputs": [],
   "source": [
    "task2 = pd.DataFrame([], columns=['model'])\n",
    "\n",
    "for i in data.columns:\n",
    "    a = pd.DataFrame(ast.literal_eval(data[i].iloc[1]).items(), columns=['model', i])\n",
    "    task2 = a.merge(task2, on='model', how='outer')\n"
   ]
  },
  {
   "cell_type": "code",
   "execution_count": 71,
   "metadata": {},
   "outputs": [
    {
     "data": {
      "text/html": [
       "<div>\n",
       "<style scoped>\n",
       "    .dataframe tbody tr th:only-of-type {\n",
       "        vertical-align: middle;\n",
       "    }\n",
       "\n",
       "    .dataframe tbody tr th {\n",
       "        vertical-align: top;\n",
       "    }\n",
       "\n",
       "    .dataframe thead th {\n",
       "        text-align: right;\n",
       "    }\n",
       "</style>\n",
       "<table border=\"1\" class=\"dataframe\">\n",
       "  <thead>\n",
       "    <tr style=\"text-align: right;\">\n",
       "      <th></th>\n",
       "      <th>model</th>\n",
       "      <th>GloVe_pmc_300_min20_win16_20k.txt</th>\n",
       "      <th>pmc_glove_spine_h1000_rl_2</th>\n",
       "      <th>sg_pmc_300_min20_win16_20k_2.txt</th>\n",
       "      <th>spow_glove_h1000_1.txt</th>\n",
       "    </tr>\n",
       "  </thead>\n",
       "  <tbody>\n",
       "    <tr>\n",
       "      <th>0</th>\n",
       "      <td>SVM</td>\n",
       "      <td>0.681652</td>\n",
       "      <td>0.695018</td>\n",
       "      <td>0.710814</td>\n",
       "      <td>0.714459</td>\n",
       "    </tr>\n",
       "    <tr>\n",
       "      <th>1</th>\n",
       "      <td>GNB</td>\n",
       "      <td>0.622114</td>\n",
       "      <td>0.575942</td>\n",
       "      <td>0.585662</td>\n",
       "      <td>0.577157</td>\n",
       "    </tr>\n",
       "    <tr>\n",
       "      <th>2</th>\n",
       "      <td>RF</td>\n",
       "      <td>0.643985</td>\n",
       "      <td>0.653706</td>\n",
       "      <td>0.651276</td>\n",
       "      <td>0.653706</td>\n",
       "    </tr>\n",
       "    <tr>\n",
       "      <th>3</th>\n",
       "      <td>PA</td>\n",
       "      <td>0.646416</td>\n",
       "      <td>0.432564</td>\n",
       "      <td>0.695018</td>\n",
       "      <td>0.705954</td>\n",
       "    </tr>\n",
       "  </tbody>\n",
       "</table>\n",
       "</div>"
      ],
      "text/plain": [
       "  model  GloVe_pmc_300_min20_win16_20k.txt  pmc_glove_spine_h1000_rl_2  \\\n",
       "0   SVM                           0.681652                    0.695018   \n",
       "1   GNB                           0.622114                    0.575942   \n",
       "2    RF                           0.643985                    0.653706   \n",
       "3    PA                           0.646416                    0.432564   \n",
       "\n",
       "   sg_pmc_300_min20_win16_20k_2.txt  spow_glove_h1000_1.txt  \n",
       "0                          0.710814                0.714459  \n",
       "1                          0.585662                0.577157  \n",
       "2                          0.651276                0.653706  \n",
       "3                          0.695018                0.705954  "
      ]
     },
     "execution_count": 71,
     "metadata": {},
     "output_type": "execute_result"
    }
   ],
   "source": [
    "task2"
   ]
  },
  {
   "cell_type": "code",
   "execution_count": null,
   "metadata": {},
   "outputs": [],
   "source": []
  }
 ],
 "metadata": {
  "kernelspec": {
   "display_name": "Python 3",
   "language": "python",
   "name": "python3"
  },
  "language_info": {
   "codemirror_mode": {
    "name": "ipython",
    "version": 3
   },
   "file_extension": ".py",
   "mimetype": "text/x-python",
   "name": "python",
   "nbconvert_exporter": "python",
   "pygments_lexer": "ipython3",
   "version": "3.6.9"
  }
 },
 "nbformat": 4,
 "nbformat_minor": 2
}
