{
 "cells": [
  {
   "cell_type": "code",
   "execution_count": 41,
   "metadata": {},
   "outputs": [],
   "source": [
    "import pandas as pd\n",
    "import ast \n"
   ]
  },
  {
   "cell_type": "code",
   "execution_count": 63,
   "metadata": {},
   "outputs": [],
   "source": [
    "data = pd.read_csv('./extrinsic_results.csv')\n",
    "\n",
    "data.index = data['Unnamed: 0']\n",
    "\n",
    "data.drop('Unnamed: 0', axis=1, inplace=True)\n",
    "\n",
    "task1 = pd.DataFrame([], columns=['model'])\n",
    "\n",
    "for i in data.columns:\n",
    "    a = pd.DataFrame(ast.literal_eval(data[i].iloc[0]).items(), columns=['model', i])\n",
    "    task1 = a.merge(task1, on='model', how='outer')\n"
   ]
  },
  {
   "cell_type": "code",
   "execution_count": 75,
   "metadata": {},
   "outputs": [
    {
     "data": {
      "text/plain": [
       "model                                     SVM\n",
       "pmc_sg_spine_h1000_psl_0.2           0.604573\n",
       "GloVe_pmc_300_min20_win16_20k.txt    0.609516\n",
       "pmc_glove_spine_h1000_rl_2           0.613584\n",
       "sg_pmc_300_min20_win16_20k_2.txt     0.612406\n",
       "spow_glove_h1000_1.txt               0.622841\n",
       "spow_sg_h1000_1.txt                  0.622567\n",
       "dtype: object"
      ]
     },
     "execution_count": 75,
     "metadata": {},
     "output_type": "execute_result"
    }
   ],
   "source": [
    "task1.T.max(axis=1)"
   ]
  },
  {
   "cell_type": "code",
   "execution_count": 66,
   "metadata": {},
   "outputs": [],
   "source": [
    "task2 = pd.DataFrame([], columns=['model'])\n",
    "\n",
    "for i in data.columns:\n",
    "    a = pd.DataFrame(ast.literal_eval(data[i].iloc[1]).items(), columns=['model', i])\n",
    "    task2 = a.merge(task2, on='model', how='outer')\n"
   ]
  },
  {
   "cell_type": "code",
   "execution_count": 73,
   "metadata": {},
   "outputs": [
    {
     "data": {
      "text/plain": [
       "model                                     SVM\n",
       "pmc_sg_spine_h1000_psl_0.2           0.678659\n",
       "GloVe_pmc_300_min20_win16_20k.txt    0.683201\n",
       "pmc_glove_spine_h1000_rl_2           0.680777\n",
       "sg_pmc_300_min20_win16_20k_2.txt     0.684429\n",
       "spow_glove_h1000_1.txt               0.692925\n",
       "spow_sg_h1000_1.txt                  0.695967\n",
       "dtype: object"
      ]
     },
     "execution_count": 73,
     "metadata": {},
     "output_type": "execute_result"
    }
   ],
   "source": [
    "task2.T.max(axis=1)"
   ]
  },
  {
   "cell_type": "code",
   "execution_count": null,
   "metadata": {},
   "outputs": [],
   "source": []
  },
  {
   "cell_type": "code",
   "execution_count": 77,
   "metadata": {},
   "outputs": [],
   "source": [
    "data = pd.read_csv('./extrinsic_results_medhelp.csv')"
   ]
  },
  {
   "cell_type": "code",
   "execution_count": 78,
   "metadata": {},
   "outputs": [],
   "source": [
    "\n",
    "data.index = data['Unnamed: 0']\n",
    "\n",
    "data.drop('Unnamed: 0', axis=1, inplace=True)\n",
    "\n",
    "task1 = pd.DataFrame([], columns=['model'])\n",
    "\n",
    "for i in data.columns:\n",
    "    a = pd.DataFrame(ast.literal_eval(data[i].iloc[0]).items(), columns=['model', i])\n",
    "    task1 = a.merge(task1, on='model', how='outer')\n"
   ]
  },
  {
   "cell_type": "code",
   "execution_count": 79,
   "metadata": {},
   "outputs": [
    {
     "data": {
      "text/plain": [
       "model                                   SVM\n",
       "pmc_sg_spine_h1000_psl_0.2            0.831\n",
       "GloVe_pmc_300_min20_win16_20k.txt     0.825\n",
       "pmc_glove_spine_h1000_rl_2           0.8285\n",
       "sg_pmc_300_min20_win16_20k_2.txt      0.829\n",
       "spow_glove_h1000_1.txt                0.829\n",
       "spow_sg_h1000_1.txt                  0.8365\n",
       "dtype: object"
      ]
     },
     "execution_count": 79,
     "metadata": {},
     "output_type": "execute_result"
    }
   ],
   "source": [
    "task1.T.max(axis=1)"
   ]
  },
  {
   "cell_type": "code",
   "execution_count": 40,
   "metadata": {},
   "outputs": [
    {
     "data": {
      "text/html": [
       "<div>\n",
       "<style scoped>\n",
       "    .dataframe tbody tr th:only-of-type {\n",
       "        vertical-align: middle;\n",
       "    }\n",
       "\n",
       "    .dataframe tbody tr th {\n",
       "        vertical-align: top;\n",
       "    }\n",
       "\n",
       "    .dataframe thead th {\n",
       "        text-align: right;\n",
       "    }\n",
       "</style>\n",
       "<table border=\"1\" class=\"dataframe\">\n",
       "  <thead>\n",
       "    <tr style=\"text-align: right;\">\n",
       "      <th></th>\n",
       "      <th>model</th>\n",
       "      <th>pmc_sg_spine_h1000_psl_0.2</th>\n",
       "      <th>GloVe_pmc_300_min20_win16_20k.txt</th>\n",
       "      <th>pmc_glove_spine_h1000_rl_2</th>\n",
       "      <th>sg_pmc_300_min20_win16_20k_2.txt</th>\n",
       "      <th>spow_glove_h1000_1.txt</th>\n",
       "      <th>spow_sg_h1000_1.txt</th>\n",
       "    </tr>\n",
       "  </thead>\n",
       "  <tbody>\n",
       "    <tr>\n",
       "      <th>0</th>\n",
       "      <td>SVM</td>\n",
       "      <td>0.8245</td>\n",
       "      <td>0.8250</td>\n",
       "      <td>0.8270</td>\n",
       "      <td>0.8290</td>\n",
       "      <td>0.8290</td>\n",
       "      <td>0.8365</td>\n",
       "    </tr>\n",
       "    <tr>\n",
       "      <th>1</th>\n",
       "      <td>GNB</td>\n",
       "      <td>0.5415</td>\n",
       "      <td>0.4475</td>\n",
       "      <td>0.5115</td>\n",
       "      <td>0.4570</td>\n",
       "      <td>0.4905</td>\n",
       "      <td>0.5170</td>\n",
       "    </tr>\n",
       "    <tr>\n",
       "      <th>2</th>\n",
       "      <td>RF</td>\n",
       "      <td>0.8370</td>\n",
       "      <td>0.8045</td>\n",
       "      <td>0.8320</td>\n",
       "      <td>0.8080</td>\n",
       "      <td>0.8110</td>\n",
       "      <td>0.8160</td>\n",
       "    </tr>\n",
       "    <tr>\n",
       "      <th>3</th>\n",
       "      <td>PA</td>\n",
       "      <td>0.7375</td>\n",
       "      <td>0.6605</td>\n",
       "      <td>0.7745</td>\n",
       "      <td>0.7170</td>\n",
       "      <td>0.5770</td>\n",
       "      <td>0.4010</td>\n",
       "    </tr>\n",
       "    <tr>\n",
       "      <th>4</th>\n",
       "      <td>AdaBoost</td>\n",
       "      <td>0.4195</td>\n",
       "      <td>0.4345</td>\n",
       "      <td>0.4395</td>\n",
       "      <td>0.4145</td>\n",
       "      <td>0.4425</td>\n",
       "      <td>0.4495</td>\n",
       "    </tr>\n",
       "    <tr>\n",
       "      <th>5</th>\n",
       "      <td>Gradient Boosting</td>\n",
       "      <td>0.8240</td>\n",
       "      <td>0.8135</td>\n",
       "      <td>0.8305</td>\n",
       "      <td>0.8070</td>\n",
       "      <td>0.8170</td>\n",
       "      <td>0.8245</td>\n",
       "    </tr>\n",
       "  </tbody>\n",
       "</table>\n",
       "</div>"
      ],
      "text/plain": [
       "               model  pmc_sg_spine_h1000_psl_0.2  \\\n",
       "0                SVM                      0.8245   \n",
       "1                GNB                      0.5415   \n",
       "2                 RF                      0.8370   \n",
       "3                 PA                      0.7375   \n",
       "4           AdaBoost                      0.4195   \n",
       "5  Gradient Boosting                      0.8240   \n",
       "\n",
       "   GloVe_pmc_300_min20_win16_20k.txt  pmc_glove_spine_h1000_rl_2  \\\n",
       "0                             0.8250                      0.8270   \n",
       "1                             0.4475                      0.5115   \n",
       "2                             0.8045                      0.8320   \n",
       "3                             0.6605                      0.7745   \n",
       "4                             0.4345                      0.4395   \n",
       "5                             0.8135                      0.8305   \n",
       "\n",
       "   sg_pmc_300_min20_win16_20k_2.txt  spow_glove_h1000_1.txt  \\\n",
       "0                            0.8290                  0.8290   \n",
       "1                            0.4570                  0.4905   \n",
       "2                            0.8080                  0.8110   \n",
       "3                            0.7170                  0.5770   \n",
       "4                            0.4145                  0.4425   \n",
       "5                            0.8070                  0.8170   \n",
       "\n",
       "   spow_sg_h1000_1.txt  \n",
       "0               0.8365  \n",
       "1               0.5170  \n",
       "2               0.8160  \n",
       "3               0.4010  \n",
       "4               0.4495  \n",
       "5               0.8245  "
      ]
     },
     "execution_count": 40,
     "metadata": {},
     "output_type": "execute_result"
    }
   ],
   "source": [
    "task1"
   ]
  },
  {
   "cell_type": "code",
   "execution_count": 33,
   "metadata": {
    "scrolled": false
   },
   "outputs": [
    {
     "data": {
      "text/html": [
       "<div>\n",
       "<style scoped>\n",
       "    .dataframe tbody tr th:only-of-type {\n",
       "        vertical-align: middle;\n",
       "    }\n",
       "\n",
       "    .dataframe tbody tr th {\n",
       "        vertical-align: top;\n",
       "    }\n",
       "\n",
       "    .dataframe thead th {\n",
       "        text-align: right;\n",
       "    }\n",
       "</style>\n",
       "<table border=\"1\" class=\"dataframe\">\n",
       "  <thead>\n",
       "    <tr style=\"text-align: right;\">\n",
       "      <th></th>\n",
       "      <th>model</th>\n",
       "      <th>pmc_sg_spine_h1000_psl_0.2</th>\n",
       "      <th>GloVe_pmc_300_min20_win16_20k.txt</th>\n",
       "      <th>pmc_glove_spine_h1000_rl_2</th>\n",
       "      <th>sg_pmc_300_min20_win16_20k_2.txt</th>\n",
       "      <th>spow_glove_h1000_1.txt</th>\n",
       "      <th>spow_sg_h1000_1.txt</th>\n",
       "    </tr>\n",
       "  </thead>\n",
       "  <tbody>\n",
       "    <tr>\n",
       "      <th>0</th>\n",
       "      <td>SVM</td>\n",
       "      <td>0.824</td>\n",
       "      <td>0.752</td>\n",
       "      <td>0.800</td>\n",
       "      <td>0.800</td>\n",
       "      <td>0.820</td>\n",
       "      <td>0.786</td>\n",
       "    </tr>\n",
       "    <tr>\n",
       "      <th>1</th>\n",
       "      <td>GNB</td>\n",
       "      <td>0.516</td>\n",
       "      <td>0.452</td>\n",
       "      <td>0.544</td>\n",
       "      <td>0.418</td>\n",
       "      <td>0.484</td>\n",
       "      <td>0.504</td>\n",
       "    </tr>\n",
       "    <tr>\n",
       "      <th>2</th>\n",
       "      <td>RF</td>\n",
       "      <td>0.818</td>\n",
       "      <td>0.754</td>\n",
       "      <td>0.796</td>\n",
       "      <td>0.768</td>\n",
       "      <td>0.820</td>\n",
       "      <td>0.786</td>\n",
       "    </tr>\n",
       "    <tr>\n",
       "      <th>3</th>\n",
       "      <td>PA</td>\n",
       "      <td>0.712</td>\n",
       "      <td>0.658</td>\n",
       "      <td>0.736</td>\n",
       "      <td>0.616</td>\n",
       "      <td>0.454</td>\n",
       "      <td>0.148</td>\n",
       "    </tr>\n",
       "    <tr>\n",
       "      <th>4</th>\n",
       "      <td>AdaBoost</td>\n",
       "      <td>0.406</td>\n",
       "      <td>0.430</td>\n",
       "      <td>0.412</td>\n",
       "      <td>0.380</td>\n",
       "      <td>0.432</td>\n",
       "      <td>0.448</td>\n",
       "    </tr>\n",
       "    <tr>\n",
       "      <th>5</th>\n",
       "      <td>Gradient Boosting</td>\n",
       "      <td>0.804</td>\n",
       "      <td>0.740</td>\n",
       "      <td>0.820</td>\n",
       "      <td>0.786</td>\n",
       "      <td>0.806</td>\n",
       "      <td>0.778</td>\n",
       "    </tr>\n",
       "  </tbody>\n",
       "</table>\n",
       "</div>"
      ],
      "text/plain": [
       "               model  pmc_sg_spine_h1000_psl_0.2  \\\n",
       "0                SVM                       0.824   \n",
       "1                GNB                       0.516   \n",
       "2                 RF                       0.818   \n",
       "3                 PA                       0.712   \n",
       "4           AdaBoost                       0.406   \n",
       "5  Gradient Boosting                       0.804   \n",
       "\n",
       "   GloVe_pmc_300_min20_win16_20k.txt  pmc_glove_spine_h1000_rl_2  \\\n",
       "0                              0.752                       0.800   \n",
       "1                              0.452                       0.544   \n",
       "2                              0.754                       0.796   \n",
       "3                              0.658                       0.736   \n",
       "4                              0.430                       0.412   \n",
       "5                              0.740                       0.820   \n",
       "\n",
       "   sg_pmc_300_min20_win16_20k_2.txt  spow_glove_h1000_1.txt  \\\n",
       "0                             0.800                   0.820   \n",
       "1                             0.418                   0.484   \n",
       "2                             0.768                   0.820   \n",
       "3                             0.616                   0.454   \n",
       "4                             0.380                   0.432   \n",
       "5                             0.786                   0.806   \n",
       "\n",
       "   spow_sg_h1000_1.txt  \n",
       "0                0.786  \n",
       "1                0.504  \n",
       "2                0.786  \n",
       "3                0.148  \n",
       "4                0.448  \n",
       "5                0.778  "
      ]
     },
     "execution_count": 33,
     "metadata": {},
     "output_type": "execute_result"
    }
   ],
   "source": [
    "task1"
   ]
  },
  {
   "cell_type": "code",
   "execution_count": null,
   "metadata": {},
   "outputs": [],
   "source": [
    "data = pd.read_csv('./')"
   ]
  }
 ],
 "metadata": {
  "kernelspec": {
   "display_name": "Python 3",
   "language": "python",
   "name": "python3"
  },
  "language_info": {
   "codemirror_mode": {
    "name": "ipython",
    "version": 3
   },
   "file_extension": ".py",
   "mimetype": "text/x-python",
   "name": "python",
   "nbconvert_exporter": "python",
   "pygments_lexer": "ipython3",
   "version": "3.6.5"
  }
 },
 "nbformat": 4,
 "nbformat_minor": 2
}
