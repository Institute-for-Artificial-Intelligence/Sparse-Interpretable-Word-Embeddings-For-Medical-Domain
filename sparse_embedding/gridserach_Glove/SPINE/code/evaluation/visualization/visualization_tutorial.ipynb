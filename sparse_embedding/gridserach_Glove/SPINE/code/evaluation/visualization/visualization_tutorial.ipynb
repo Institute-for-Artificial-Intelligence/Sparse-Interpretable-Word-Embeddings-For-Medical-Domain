{
 "cells": [
  {
   "cell_type": "code",
   "execution_count": 1,
   "metadata": {},
   "outputs": [],
   "source": [
    "import visualize_online "
   ]
  },
  {
   "cell_type": "code",
   "execution_count": 2,
   "metadata": {},
   "outputs": [
    {
     "name": "stderr",
     "output_type": "stream",
     "text": [
      "100%|██████████| 15000/15000 [00:59<00:00, 252.21it/s]"
     ]
    },
    {
     "name": "stdout",
     "output_type": "stream",
     "text": [
      "Sparsity = 87.79586\n",
      "done loading vectors\n"
     ]
    },
    {
     "name": "stderr",
     "output_type": "stream",
     "text": [
      "\n"
     ]
    }
   ],
   "source": [
    "# load SPINE vectors (available at https://tinyurl.com/SPINE-VECTORS)\n",
    "visualize_online.load_vectors(\"SPINE_glove.txt\")"
   ]
  },
  {
   "cell_type": "code",
   "execution_count": 3,
   "metadata": {},
   "outputs": [],
   "source": [
    "# precompute top dimensions\n",
    "visualize_online.load_top_dimensions(10)"
   ]
  },
  {
   "cell_type": "markdown",
   "metadata": {},
   "source": [
    "Now lets visualize the vectors, and interpret individual dimensions of a few words. Since the vectors are sparse, we look at the dimensions where this word was (most) active in. For these select dimensions, we find what other words are active."
   ]
  },
  {
   "cell_type": "code",
   "execution_count": 4,
   "metadata": {},
   "outputs": [
    {
     "name": "stdout",
     "output_type": "stream",
     "text": [
      " -----------------------------------------------------\n",
      "Word of interest =  remote\n",
      "The contribution of the word 'remote' in dimension 873 = 0.731714\n",
      "Following are the top words in dimension 873 along with their contributions\n",
      "[(1.0, 'territory'), (1.0, 'territories'), (1.0, 'regions'), (1.0, 'region'), (1.0, 'province'), (1.0, 'northeastern'), (1.0, 'divided'), (1.0, 'districts'), (1.0, 'district'), (1.0, 'autonomous')]\n",
      "The contribution of the word 'remote' in dimension 793 = 0.575872\n",
      "Following are the top words in dimension 793 along with their contributions\n",
      "[(1.0, 'wilderness'), (1.0, 'ski'), (1.0, 'camping'), (0.982859, 'mountain'), (0.974657, 'hiking'), (0.879394, 'skiing'), (0.872279, 'yellowstone'), (0.858338, 'alpine'), (0.845619, 'himalayan'), (0.833762, 'appalachian')]\n",
      "The contribution of the word 'remote' in dimension 484 = 0.561380\n",
      "Following are the top words in dimension 484 along with their contributions\n",
      "[(0.719828, 'rugged'), (0.701762, 'mountainous'), (0.669859, 'scenic'), (0.617966, 'wooded'), (0.617567, 'terrain'), (0.58574, 'jungle'), (0.584303, 'mountains'), (0.576872, 'bunkers'), (0.570337, 'landscape'), (0.562332, 'countryside')]\n",
      "The contribution of the word 'remote' in dimension 363 = 0.471379\n",
      "Following are the top words in dimension 363 along with their contributions\n",
      "[(1.0, 'wounding'), (1.0, 'wounded'), (1.0, 'gunmen'), (0.954116, 'convoy'), (0.953344, 'gunfire'), (0.944855, 'killed'), (0.934157, 'grenades'), (0.92345, 'clashes'), (0.921332, 'baghdad'), (0.911051, 'ambushed')]\n",
      "The contribution of the word 'remote' in dimension 889 = 0.419193\n",
      "Following are the top words in dimension 889 along with their contributions\n",
      "[(1.0, 'voltage'), (1.0, 'valves'), (1.0, 'valve'), (1.0, 'transmission'), (1.0, 'sensors'), (1.0, 'hydraulic'), (1.0, 'braking'), (1.0, 'brakes'), (1.0, 'brake'), (0.967409, 'sensor')]\n"
     ]
    }
   ],
   "source": [
    "visualize_online.find_top_participating_dimensions(\"remote\", 5)"
   ]
  },
  {
   "cell_type": "markdown",
   "metadata": {},
   "source": [
    "For the word _remote_, we see that different senses are captured in different dimensions \n",
    "\n",
    "- Remote areas -- provinces, regions, territories etc.\n",
    "- Remote activities -- skiing, camping, hiking etc.\n",
    "- Electronic remote -- voltage, sensors, transmission etc.\n",
    "\n",
    "Further, lets try a few more examples."
   ]
  },
  {
   "cell_type": "code",
   "execution_count": 5,
   "metadata": {},
   "outputs": [
    {
     "name": "stdout",
     "output_type": "stream",
     "text": [
      " -----------------------------------------------------\n",
      "Word of interest =  mathematics\n",
      "The contribution of the word 'mathematics' in dimension 635 = 0.924741\n",
      "Following are the top words in dimension 635 along with their contributions\n",
      "[(1.0, 'sciences'), (1.0, 'honorary'), (1.0, 'faculty'), (1.0, 'doctorate'), (1.0, 'chemistry'), (1.0, 'bachelor'), (1.0, '1893'), (1.0, '1892'), (1.0, '1891'), (1.0, '1887')]\n",
      "The contribution of the word 'mathematics' in dimension 486 = 0.866637\n",
      "Following are the top words in dimension 486 along with their contributions\n",
      "[(1.0, 'university'), (1.0, 'undergraduate'), (1.0, 'sociology'), (1.0, 'professor'), (1.0, 'phd'), (1.0, 'humanities'), (1.0, 'graduate'), (1.0, 'doctorate'), (1.0, 'degree'), (1.0, 'bachelor')]\n",
      "The contribution of the word 'mathematics' in dimension 513 = 0.693688\n",
      "Following are the top words in dimension 513 along with their contributions\n",
      "[(1.0, 'mathematical'), (1.0, 'equations'), (0.980986, 'theory'), (0.950713, 'quantum'), (0.877196, 'equation'), (0.845076, 'theoretical'), (0.825598, 'physics'), (0.824139, 'computational'), (0.81905, 'empirical'), (0.717057, 'calculus')]\n",
      "The contribution of the word 'mathematics' in dimension 822 = 0.659560\n",
      "Following are the top words in dimension 822 along with their contributions\n",
      "[(1.0, 'vocational'), (1.0, 'students'), (1.0, 'school'), (1.0, 'kindergarten'), (1.0, 'grades'), (1.0, 'exams'), (1.0, 'diploma'), (1.0, 'curriculum'), (1.0, 'courses'), (0.996355, 'pupils')]\n",
      "The contribution of the word 'mathematics' in dimension 193 = 0.581674\n",
      "Following are the top words in dimension 193 along with their contributions\n",
      "[(1.0, 'william'), (1.0, 'virginia'), (1.0, 'university'), (1.0, 'served'), (1.0, 'school'), (1.0, 'located'), (1.0, 'district'), (1.0, 'county'), (1.0, 'college'), (1.0, 'born')]\n"
     ]
    }
   ],
   "source": [
    "visualize_online.find_top_participating_dimensions(\"mathematics\", 5)"
   ]
  },
  {
   "cell_type": "code",
   "execution_count": 6,
   "metadata": {},
   "outputs": [
    {
     "name": "stdout",
     "output_type": "stream",
     "text": [
      " -----------------------------------------------------\n",
      "Word of interest =  internet\n",
      "The contribution of the word 'internet' in dimension 737 = 0.783821\n",
      "Following are the top words in dimension 737 along with their contributions\n",
      "[(1.0, 'windows'), (1.0, 'users'), (1.0, 'user'), (1.0, 'software'), (1.0, 'server'), (1.0, 'interface'), (1.0, 'desktop'), (1.0, 'browser'), (0.981158, 'linux'), (0.951162, 'os')]\n",
      "The contribution of the word 'internet' in dimension 403 = 0.781103\n",
      "Following are the top words in dimension 403 along with their contributions\n",
      "[(1.0, 'youtube'), (0.919535, 'myspace'), (0.869839, 'twitter'), (0.858156, 'advertising'), (0.840354, 'ads'), (0.816447, 'facebook'), (0.781103, 'internet'), (0.777614, 'advertisers'), (0.75083, 'online'), (0.73927, 'mtv')]\n",
      "The contribution of the word 'internet' in dimension 125 = 0.567733\n",
      "Following are the top words in dimension 125 along with their contributions\n",
      "[(1.0, 'wireless'), (1.0, 'telephone'), (1.0, 'optic'), (1.0, 'cellular'), (1.0, 'cable'), (1.0, 'broadband'), (0.997854, 'telecom'), (0.997213, '3g'), (0.98463, 'communications'), (0.971955, 'telecommunications')]\n",
      "The contribution of the word 'internet' in dimension 95 = 0.517186\n",
      "Following are the top words in dimension 95 along with their contributions\n",
      "[(0.602929, 'google'), (0.534104, 'spam'), (0.523129, 'filtering'), (0.520002, 'browser'), (0.517186, 'internet'), (0.475218, 'facebook'), (0.454766, 'chat'), (0.452599, 'aol'), (0.440077, 'myspace'), (0.4343, 'email')]\n",
      "The contribution of the word 'internet' in dimension 68 = 0.440611\n",
      "Following are the top words in dimension 68 along with their contributions\n",
      "[(0.811834, 'chat'), (0.773433, 'email'), (0.714491, 'mail'), (0.67958, 'blogs'), (0.678646, 'twitter'), (0.664534, 'facebook'), (0.6645, 'e'), (0.623722, 'messages'), (0.613469, 'blog'), (0.60615, 'messaging')]\n"
     ]
    }
   ],
   "source": [
    "visualize_online.find_top_participating_dimensions(\"internet\", 5)"
   ]
  },
  {
   "cell_type": "markdown",
   "metadata": {},
   "source": [
    "For the word _internet_, we again observe (and interpret) interesting dimensions, relating to\n",
    "\n",
    "- popular websites on internet: youtube, myspace, twitter etc.\n",
    "- Instant messaging/communication: chat, email, mail etc.\n",
    "- networking terms related to internet: wireless, telephone, cellular, broadband etc."
   ]
  },
  {
   "cell_type": "code",
   "execution_count": null,
   "metadata": {},
   "outputs": [],
   "source": []
  }
 ],
 "metadata": {
  "kernelspec": {
   "display_name": "Python 3",
   "language": "python",
   "name": "python3"
  },
  "language_info": {
   "codemirror_mode": {
    "name": "ipython",
    "version": 3
   },
   "file_extension": ".py",
   "mimetype": "text/x-python",
   "name": "python",
   "nbconvert_exporter": "python",
   "pygments_lexer": "ipython3",
   "version": "3.5.2"
  }
 },
 "nbformat": 4,
 "nbformat_minor": 2
}
